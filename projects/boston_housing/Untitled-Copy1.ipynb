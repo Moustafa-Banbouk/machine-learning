{
 "cells": [
  {
   "cell_type": "code",
   "execution_count": null,
   "metadata": {
    "collapsed": true
   },
   "outputs": [],
   "source": [
    "# Loading Data\n",
    "\n",
    "import pandas as pd\n",
    "titanic_train = pd.read_csv(\"Data/Titanic/train.csv\")\n",
    "titanic_test = pd.read_csv(\"Data/Titanic/test.csv\")\n",
    "\n",
    "print titanic_train.head(4)\n",
    "print titanic_train.describe()\n",
    "\n",
    "# Age of some passengers is missing as indicated in the count of Age column;\n",
    "# therefore, cleanup is required by replacing the na value by the median\n",
    "titanic_train[\"Age\"] = titanic_train[\"Age\"].fillna(titanic_train[\"Age\"].median())"
   ]
  },
  {
   "cell_type": "code",
   "execution_count": null,
   "metadata": {
    "collapsed": true
   },
   "outputs": [],
   "source": []
  }
 ],
 "metadata": {
  "kernelspec": {
   "display_name": "Python 2",
   "language": "python",
   "name": "python2"
  },
  "language_info": {
   "codemirror_mode": {
    "name": "ipython",
    "version": 2
   },
   "file_extension": ".py",
   "mimetype": "text/x-python",
   "name": "python",
   "nbconvert_exporter": "python",
   "pygments_lexer": "ipython2",
   "version": "2.7.11"
  }
 },
 "nbformat": 4,
 "nbformat_minor": 0
}
